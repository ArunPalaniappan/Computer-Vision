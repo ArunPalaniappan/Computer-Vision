{
 "cells": [
  {
   "cell_type": "code",
   "execution_count": null,
   "id": "12621c9d",
   "metadata": {},
   "outputs": [],
   "source": [
    "import urllib.request\n",
    "import PIL.Image\n",
    "\n",
    "roll = input('Enter Roll Number: ')\n",
    "url = \"https://photos.iitm.ac.in/byroll.php?roll=\"+str(roll)\n",
    "urllib.request.urlretrieve(str(url), \"sample.png\")\n",
    "\n",
    "img = PIL.Image.open(\"sample.png\")\n",
    "img.show()"
   ]
  },
  {
   "cell_type": "code",
   "execution_count": null,
   "id": "f559300d",
   "metadata": {},
   "outputs": [],
   "source": []
  }
 ],
 "metadata": {
  "kernelspec": {
   "display_name": "Python 3",
   "language": "python",
   "name": "python3"
  },
  "language_info": {
   "codemirror_mode": {
    "name": "ipython",
    "version": 3
   },
   "file_extension": ".py",
   "mimetype": "text/x-python",
   "name": "python",
   "nbconvert_exporter": "python",
   "pygments_lexer": "ipython3",
   "version": "3.8.8"
  }
 },
 "nbformat": 4,
 "nbformat_minor": 5
}
