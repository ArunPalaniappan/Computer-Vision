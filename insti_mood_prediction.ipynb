{
 "cells": [
  {
   "cell_type": "code",
   "execution_count": 46,
   "id": "24fe5250",
   "metadata": {},
   "outputs": [],
   "source": [
    "from sklearn.neighbors import KNeighborsClassifier\n",
    "from sklearn.linear_model import LogisticRegression\n",
    "from sklearn import metrics\n",
    "from sklearn.model_selection import train_test_split\n",
    "import pandas as pd\n",
    "import numpy as np\n",
    "import matplotlib.pyplot as plt\n",
    "%matplotlib inline"
   ]
  },
  {
   "cell_type": "code",
   "execution_count": 47,
   "id": "f5aa4262",
   "metadata": {},
   "outputs": [],
   "source": [
    "data = pd.read_csv('insti_mood.csv')"
   ]
  },
  {
   "cell_type": "code",
   "execution_count": 48,
   "id": "da1f5922",
   "metadata": {},
   "outputs": [],
   "source": [
    "data.X1.fillna(3, inplace = True)\n",
    "data.X2.fillna(3, inplace = True)\n",
    "data.X3.fillna(3, inplace = True)\n",
    "data.X4.fillna(2, inplace = True)\n",
    "data.X5.fillna(3, inplace = True)\n",
    "data.Y.fillna(3, inplace = True)"
   ]
  },
  {
   "cell_type": "code",
   "execution_count": 49,
   "id": "ad54bd97",
   "metadata": {},
   "outputs": [],
   "source": [
    "data.replace([\"Poor\", \"Not sure\", \"Decent\", \"Good\"], [1, 2, 3, 4], inplace=True)"
   ]
  },
  {
   "cell_type": "code",
   "execution_count": 50,
   "id": "5ed18850",
   "metadata": {},
   "outputs": [
    {
     "data": {
      "text/html": [
       "<div>\n",
       "<style scoped>\n",
       "    .dataframe tbody tr th:only-of-type {\n",
       "        vertical-align: middle;\n",
       "    }\n",
       "\n",
       "    .dataframe tbody tr th {\n",
       "        vertical-align: top;\n",
       "    }\n",
       "\n",
       "    .dataframe thead th {\n",
       "        text-align: right;\n",
       "    }\n",
       "</style>\n",
       "<table border=\"1\" class=\"dataframe\">\n",
       "  <thead>\n",
       "    <tr style=\"text-align: right;\">\n",
       "      <th></th>\n",
       "      <th>X1</th>\n",
       "      <th>X2</th>\n",
       "      <th>X3</th>\n",
       "      <th>X4</th>\n",
       "      <th>X5</th>\n",
       "      <th>Y</th>\n",
       "    </tr>\n",
       "  </thead>\n",
       "  <tbody>\n",
       "    <tr>\n",
       "      <th>0</th>\n",
       "      <td>How pleasant is the family atmosphere at your ...</td>\n",
       "      <td>How favorable is the study and work environmen...</td>\n",
       "      <td>How satisfied are you with your daily routine?</td>\n",
       "      <td>Over the past couple of months, how has your q...</td>\n",
       "      <td>How productive are you?</td>\n",
       "      <td>How would you rate your mental health?</td>\n",
       "    </tr>\n",
       "    <tr>\n",
       "      <th>1</th>\n",
       "      <td>1</td>\n",
       "      <td>1</td>\n",
       "      <td>1</td>\n",
       "      <td>1</td>\n",
       "      <td>3</td>\n",
       "      <td>1</td>\n",
       "    </tr>\n",
       "    <tr>\n",
       "      <th>2</th>\n",
       "      <td>3</td>\n",
       "      <td>3</td>\n",
       "      <td>3</td>\n",
       "      <td>2</td>\n",
       "      <td>3</td>\n",
       "      <td>3</td>\n",
       "    </tr>\n",
       "    <tr>\n",
       "      <th>3</th>\n",
       "      <td>1</td>\n",
       "      <td>1</td>\n",
       "      <td>1</td>\n",
       "      <td>1</td>\n",
       "      <td>3</td>\n",
       "      <td>2</td>\n",
       "    </tr>\n",
       "    <tr>\n",
       "      <th>4</th>\n",
       "      <td>3</td>\n",
       "      <td>4</td>\n",
       "      <td>3</td>\n",
       "      <td>4</td>\n",
       "      <td>2</td>\n",
       "      <td>5</td>\n",
       "    </tr>\n",
       "    <tr>\n",
       "      <th>...</th>\n",
       "      <td>...</td>\n",
       "      <td>...</td>\n",
       "      <td>...</td>\n",
       "      <td>...</td>\n",
       "      <td>...</td>\n",
       "      <td>...</td>\n",
       "    </tr>\n",
       "    <tr>\n",
       "      <th>1302</th>\n",
       "      <td>3</td>\n",
       "      <td>4</td>\n",
       "      <td>2</td>\n",
       "      <td>1</td>\n",
       "      <td>2</td>\n",
       "      <td>1</td>\n",
       "    </tr>\n",
       "    <tr>\n",
       "      <th>1303</th>\n",
       "      <td>5</td>\n",
       "      <td>5</td>\n",
       "      <td>3</td>\n",
       "      <td>4</td>\n",
       "      <td>3</td>\n",
       "      <td>4</td>\n",
       "    </tr>\n",
       "    <tr>\n",
       "      <th>1304</th>\n",
       "      <td>4</td>\n",
       "      <td>3</td>\n",
       "      <td>3</td>\n",
       "      <td>3</td>\n",
       "      <td>2</td>\n",
       "      <td>3</td>\n",
       "    </tr>\n",
       "    <tr>\n",
       "      <th>1305</th>\n",
       "      <td>4</td>\n",
       "      <td>4</td>\n",
       "      <td>4</td>\n",
       "      <td>3</td>\n",
       "      <td>4</td>\n",
       "      <td>5</td>\n",
       "    </tr>\n",
       "    <tr>\n",
       "      <th>1306</th>\n",
       "      <td>3</td>\n",
       "      <td>3</td>\n",
       "      <td>2</td>\n",
       "      <td>3</td>\n",
       "      <td>3</td>\n",
       "      <td>2</td>\n",
       "    </tr>\n",
       "  </tbody>\n",
       "</table>\n",
       "<p>1307 rows × 6 columns</p>\n",
       "</div>"
      ],
      "text/plain": [
       "                                                     X1  \\\n",
       "0     How pleasant is the family atmosphere at your ...   \n",
       "1                                                     1   \n",
       "2                                                     3   \n",
       "3                                                     1   \n",
       "4                                                     3   \n",
       "...                                                 ...   \n",
       "1302                                                  3   \n",
       "1303                                                  5   \n",
       "1304                                                  4   \n",
       "1305                                                  4   \n",
       "1306                                                  3   \n",
       "\n",
       "                                                     X2  \\\n",
       "0     How favorable is the study and work environmen...   \n",
       "1                                                     1   \n",
       "2                                                     3   \n",
       "3                                                     1   \n",
       "4                                                     4   \n",
       "...                                                 ...   \n",
       "1302                                                  4   \n",
       "1303                                                  5   \n",
       "1304                                                  3   \n",
       "1305                                                  4   \n",
       "1306                                                  3   \n",
       "\n",
       "                                                  X3  \\\n",
       "0     How satisfied are you with your daily routine?   \n",
       "1                                                  1   \n",
       "2                                                  3   \n",
       "3                                                  1   \n",
       "4                                                  3   \n",
       "...                                              ...   \n",
       "1302                                               2   \n",
       "1303                                               3   \n",
       "1304                                               3   \n",
       "1305                                               4   \n",
       "1306                                               2   \n",
       "\n",
       "                                                     X4  \\\n",
       "0     Over the past couple of months, how has your q...   \n",
       "1                                                     1   \n",
       "2                                                     2   \n",
       "3                                                     1   \n",
       "4                                                     4   \n",
       "...                                                 ...   \n",
       "1302                                                  1   \n",
       "1303                                                  4   \n",
       "1304                                                  3   \n",
       "1305                                                  3   \n",
       "1306                                                  3   \n",
       "\n",
       "                           X5                                       Y  \n",
       "0     How productive are you?  How would you rate your mental health?  \n",
       "1                           3                                       1  \n",
       "2                           3                                       3  \n",
       "3                           3                                       2  \n",
       "4                           2                                       5  \n",
       "...                       ...                                     ...  \n",
       "1302                        2                                       1  \n",
       "1303                        3                                       4  \n",
       "1304                        2                                       3  \n",
       "1305                        4                                       5  \n",
       "1306                        3                                       2  \n",
       "\n",
       "[1307 rows x 6 columns]"
      ]
     },
     "execution_count": 50,
     "metadata": {},
     "output_type": "execute_result"
    }
   ],
   "source": [
    "data"
   ]
  },
  {
   "cell_type": "code",
   "execution_count": 51,
   "id": "adb87627",
   "metadata": {},
   "outputs": [],
   "source": [
    "data.drop(0, inplace = True)"
   ]
  },
  {
   "cell_type": "markdown",
   "id": "74db68f0",
   "metadata": {},
   "source": [
    "# Now data is clean ."
   ]
  },
  {
   "cell_type": "code",
   "execution_count": 53,
   "id": "7118f9b9",
   "metadata": {},
   "outputs": [],
   "source": [
    "y3 = data.loc[:,\"Y\"]"
   ]
  },
  {
   "cell_type": "code",
   "execution_count": 54,
   "id": "fbfcbbb6",
   "metadata": {},
   "outputs": [],
   "source": [
    "y2 = y3.to_list()"
   ]
  },
  {
   "cell_type": "code",
   "execution_count": 55,
   "id": "3b64cffd",
   "metadata": {},
   "outputs": [],
   "source": [
    "y1 = np.array(y2)\n",
    "y = y1.astype(float)"
   ]
  },
  {
   "cell_type": "code",
   "execution_count": 56,
   "id": "63654726",
   "metadata": {},
   "outputs": [],
   "source": [
    "data1 = data.drop(columns=['Y'])\n",
    "X2 = data1.values.tolist()"
   ]
  },
  {
   "cell_type": "code",
   "execution_count": 57,
   "id": "1e5e0612",
   "metadata": {},
   "outputs": [],
   "source": [
    "X1 = np.array(X2)\n",
    "X = X1.astype(float)"
   ]
  },
  {
   "cell_type": "code",
   "execution_count": 58,
   "id": "a169beca",
   "metadata": {},
   "outputs": [
    {
     "data": {
      "text/plain": [
       "KNeighborsClassifier(n_neighbors=1)"
      ]
     },
     "execution_count": 58,
     "metadata": {},
     "output_type": "execute_result"
    }
   ],
   "source": [
    "# full data\n",
    "knn1 = KNeighborsClassifier(n_neighbors=1)\n",
    "knn1.fit(X, y)"
   ]
  },
  {
   "cell_type": "code",
   "execution_count": 59,
   "id": "3fe6f96d",
   "metadata": {},
   "outputs": [
    {
     "name": "stdout",
     "output_type": "stream",
     "text": [
      "0.6263399693721287\n"
     ]
    }
   ],
   "source": [
    "y_pred1=knn1.predict(X)\n",
    "print(metrics.accuracy_score(y, y_pred1))"
   ]
  },
  {
   "cell_type": "code",
   "execution_count": 60,
   "id": "de8db281",
   "metadata": {},
   "outputs": [
    {
     "name": "stdout",
     "output_type": "stream",
     "text": [
      "0.4686064318529862\n"
     ]
    }
   ],
   "source": [
    "logreg = LogisticRegression(solver='liblinear')\n",
    "\n",
    "logreg.fit(X, y)\n",
    "\n",
    "y_predlog=logreg.predict(X)\n",
    "print(metrics.accuracy_score(y, y_predlog))\n",
    "\n",
    "# full data over"
   ]
  },
  {
   "cell_type": "code",
   "execution_count": 61,
   "id": "1d2020d1",
   "metadata": {},
   "outputs": [],
   "source": [
    "# train-cross_validation-test\n",
    "X_train, X_test1, y_train, y_test1 = train_test_split(X, y, test_size=0.4, random_state=3)\n",
    "X_cv, X_test, y_cv, y_test = train_test_split(X_test1, y_test1, test_size=0.5, random_state=3)\n",
    "\n",
    "# splitting as 60-20-20"
   ]
  },
  {
   "cell_type": "code",
   "execution_count": 62,
   "id": "d1f46826",
   "metadata": {},
   "outputs": [
    {
     "data": {
      "text/plain": [
       "'\\nknn = KNeighborsClassifier(n_neighbors=1)\\nknn.fit(X_train, y_train)\\ny_pred=knn.predict(X_cv)\\nprint(metrics.accuracy_score(y_cv, y_pred))\\n'"
      ]
     },
     "execution_count": 62,
     "metadata": {},
     "output_type": "execute_result"
    }
   ],
   "source": [
    "'''\n",
    "knn = KNeighborsClassifier(n_neighbors=1)\n",
    "knn.fit(X_train, y_train)\n",
    "y_pred=knn.predict(X_cv)\n",
    "print(metrics.accuracy_score(y_cv, y_pred))\n",
    "'''"
   ]
  },
  {
   "cell_type": "code",
   "execution_count": 80,
   "id": "a60d4baf",
   "metadata": {},
   "outputs": [
    {
     "data": {
      "image/png": "[encoded data removed]",
      "text/plain": [
       "<Figure size 432x288 with 1 Axes>"
      ]
     },
     "metadata": {
      "needs_background": "light"
     },
     "output_type": "display_data"
    }
   ],
   "source": [
    "k_range = list(range(40, 60))\n",
    "scores = []\n",
    "for k in k_range:\n",
    "    knn = KNeighborsClassifier(n_neighbors=k)\n",
    "    knn.fit(X_train, y_train)\n",
    "    y_pred = knn.predict(X_cv)\n",
    "    scores.append(metrics.accuracy_score(y_cv, y_pred))\n",
    "\n",
    "%matplotlib inline\n",
    "\n",
    "# plot the relationship between K and testing accuracy\n",
    "plt.plot(k_range, scores)\n",
    "plt.xlabel('Value of K for KNN')\n",
    "plt.ylabel('Testing Accuracy')\n",
    "plt.show()"
   ]
  },
  {
   "cell_type": "markdown",
   "id": "a18cf42f",
   "metadata": {},
   "source": [
    "# maximum accuracy model"
   ]
  },
  {
   "cell_type": "code",
   "execution_count": 81,
   "id": "c9ef0da2",
   "metadata": {},
   "outputs": [
    {
     "name": "stdout",
     "output_type": "stream",
     "text": [
      "0.4674329501915709\n"
     ]
    }
   ],
   "source": [
    "knn2 = KNeighborsClassifier(n_neighbors=52)\n",
    "knn2.fit(X_train, y_train)\n",
    "y_pred2=knn2.predict(X_cv)\n",
    "print(metrics.accuracy_score(y_cv, y_pred2))"
   ]
  },
  {
   "cell_type": "code",
   "execution_count": 65,
   "id": "9c24ee06",
   "metadata": {},
   "outputs": [
    {
     "name": "stdout",
     "output_type": "stream",
     "text": [
      "0.4541984732824427\n"
     ]
    }
   ],
   "source": [
    "from sklearn import svm\n",
    "\n",
    "clf = svm.SVC()\n",
    "clf.fit(X_train, y_train)\n",
    "y_predsvm=knn.predict(X_test)\n",
    "print(metrics.accuracy_score(y_test, y_predsvm))"
   ]
  },
  {
   "cell_type": "code",
   "execution_count": 66,
   "id": "e6f08e87",
   "metadata": {},
   "outputs": [
    {
     "data": {
      "text/plain": [
       "4    421\n",
       "5    305\n",
       "3    257\n",
       "2    112\n",
       "1     68\n",
       "Name: X1, dtype: int64"
      ]
     },
     "execution_count": 66,
     "metadata": {},
     "output_type": "execute_result"
    }
   ],
   "source": [
    "# finding missing values\n",
    "dat = pd.read_csv('insti_mood.csv')\n",
    "dat.drop(0, inplace = True)\n",
    "dat.X1.value_counts()"
   ]
  },
  {
   "cell_type": "markdown",
   "id": "9900894a",
   "metadata": {},
   "source": [
    "# missing value counts"
   ]
  },
  {
   "cell_type": "code",
   "execution_count": 67,
   "id": "35440560",
   "metadata": {},
   "outputs": [
    {
     "data": {
      "text/plain": [
       "(143, 6)"
      ]
     },
     "execution_count": 67,
     "metadata": {},
     "output_type": "execute_result"
    }
   ],
   "source": [
    "dat[pd.isnull(dat.X1)].shape"
   ]
  },
  {
   "cell_type": "code",
   "execution_count": 68,
   "id": "508c96d1",
   "metadata": {},
   "outputs": [
    {
     "data": {
      "text/plain": [
       "(139, 6)"
      ]
     },
     "execution_count": 68,
     "metadata": {},
     "output_type": "execute_result"
    }
   ],
   "source": [
    "dat[pd.isnull(dat.X2)].shape"
   ]
  },
  {
   "cell_type": "code",
   "execution_count": 69,
   "id": "fcd38635",
   "metadata": {},
   "outputs": [
    {
     "data": {
      "text/plain": [
       "(17, 6)"
      ]
     },
     "execution_count": 69,
     "metadata": {},
     "output_type": "execute_result"
    }
   ],
   "source": [
    "dat[pd.isnull(dat.X3)].shape"
   ]
  },
  {
   "cell_type": "code",
   "execution_count": 70,
   "id": "3248adf6",
   "metadata": {},
   "outputs": [
    {
     "data": {
      "text/plain": [
       "(13, 6)"
      ]
     },
     "execution_count": 70,
     "metadata": {},
     "output_type": "execute_result"
    }
   ],
   "source": [
    "dat[pd.isnull(dat.X4)].shape"
   ]
  },
  {
   "cell_type": "code",
   "execution_count": 71,
   "id": "6daad0cb",
   "metadata": {},
   "outputs": [
    {
     "data": {
      "text/plain": [
       "(21, 6)"
      ]
     },
     "execution_count": 71,
     "metadata": {},
     "output_type": "execute_result"
    }
   ],
   "source": [
    "dat[pd.isnull(dat.X5)].shape"
   ]
  },
  {
   "cell_type": "code",
   "execution_count": 72,
   "id": "a603f5a9",
   "metadata": {},
   "outputs": [
    {
     "data": {
      "text/plain": [
       "(12, 6)"
      ]
     },
     "execution_count": 72,
     "metadata": {},
     "output_type": "execute_result"
    }
   ],
   "source": [
    "dat[pd.isnull(dat.Y)].shape"
   ]
  }
 ],
 "metadata": {
  "kernelspec": {
   "display_name": "Python 3",
   "language": "python",
   "name": "python3"
  },
  "language_info": {
   "codemirror_mode": {
    "name": "ipython",
    "version": 3
   },
   "file_extension": ".py",
   "mimetype": "text/x-python",
   "name": "python",
   "nbconvert_exporter": "python",
   "pygments_lexer": "ipython3",
   "version": "3.8.8"
  }
 },
 "nbformat": 4,
 "nbformat_minor": 5
}
