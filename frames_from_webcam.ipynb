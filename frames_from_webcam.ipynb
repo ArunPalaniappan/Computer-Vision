{
 "cells": [
  {
   "cell_type": "code",
   "execution_count": 1,
   "id": "085d06b2",
   "metadata": {},
   "outputs": [],
   "source": [
    "import cv2\n",
    "import time"
   ]
  },
  {
   "cell_type": "code",
   "execution_count": 2,
   "id": "2f11ad7b",
   "metadata": {},
   "outputs": [
    {
     "name": "stdout",
     "output_type": "stream",
     "text": [
      "Frames per second : 30.0\n"
     ]
    }
   ],
   "source": [
    "t = 10\n",
    "video = cv2.VideoCapture(0);\n",
    "fps = video.get(cv2.CAP_PROP_FPS)\n",
    "print(\"Frames per second : {0}\".format(fps))\n",
    "\n",
    "video.release()"
   ]
  },
  {
   "cell_type": "code",
   "execution_count": 3,
   "id": "1ef63824",
   "metadata": {},
   "outputs": [
    {
     "data": {
      "text/plain": [
       "300"
      ]
     },
     "execution_count": 3,
     "metadata": {},
     "output_type": "execute_result"
    }
   ],
   "source": [
    "ff10 = t*int(fps)\n",
    "ff10"
   ]
  },
  {
   "cell_type": "code",
   "execution_count": 4,
   "id": "eaf9aa4b",
   "metadata": {},
   "outputs": [],
   "source": [
    "webCam = cv2.VideoCapture(0)\n",
    "i = 0\n",
    "\n",
    "while (True):\n",
    "    success, frame = webCam.read()\n",
    "\n",
    "    cv2.imshow(\"Output\", frame)\n",
    "    if (i % ff10 == 0) :\n",
    "        cv2.imwrite('Frame' + str(i) + '.jpg', frame)\n",
    "    i += 1\n",
    "\n",
    "    if cv2.waitKey(1) & 0xFF == ord('q'):\n",
    "        break\n",
    "\n",
    "webCam.release()\n",
    "cv2.destroyAllWindows()"
   ]
  }
 ],
 "metadata": {
  "kernelspec": {
   "display_name": "Python 3",
   "language": "python",
   "name": "python3"
  },
  "language_info": {
   "codemirror_mode": {
    "name": "ipython",
    "version": 3
   },
   "file_extension": ".py",
   "mimetype": "text/x-python",
   "name": "python",
   "nbconvert_exporter": "python",
   "pygments_lexer": "ipython3",
   "version": "3.8.8"
  }
 },
 "nbformat": 4,
 "nbformat_minor": 5
}
